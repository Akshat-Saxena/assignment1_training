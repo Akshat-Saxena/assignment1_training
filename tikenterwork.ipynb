import tkinter as tk
import pandas as pd

from sklearn.neighbors import KNeighborsClassifier
import numpy as np
t=tk.Tk()
t.title("Machine Learning Project")
t.geometry("1350x2000+0+0")

fm1=tk.Frame(t)
fm1.pack()
fram1=tk.Label(fm1,text="Mobile Price Range Predict",font=("arial",50,"bold"),relief="ridge",bd=10)
fram1.grid(row=0,columnspan=2,pady=20)
fm2=tk.Frame(fm1,bd=10,width=1000,height=300,relief="ridge")
fm2.grid(row=2)
y1_pre=tk.DoubleVar()
y2_pre=tk.DoubleVar()
y3_pre=tk.DoubleVar()
filename=tk.IntVar()
Maxstr=tk.StringVar()
##################### variable for Frame 2 ############################
global stm

stm=[]
k11=[]
w11=[]
storeval=tk.IntVar()
strmn=""
global kl

#######################################################################
l={}
ranfo="1"
check=tk.StringVar()
########################################## Class ###########################################################
class Primary:
    y1_pre=tk.IntVar()
    def __init__(self,x_train,x_test,y_train,y_test):
        self.x_train=x_train
        self.y_train=y_train
        self.y_test=y_test
        self.x_test=x_test
